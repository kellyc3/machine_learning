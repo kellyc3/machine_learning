{
 "cells": [
  {
   "cell_type": "markdown",
   "metadata": {},
   "source": [
    "# Import Libraries"
   ]
  },
  {
   "cell_type": "code",
   "execution_count": 1,
   "metadata": {},
   "outputs": [],
   "source": [
    "import pandas as pd\n",
    "import numpy as np\n",
    "from sklearn.cluster import KMeans\n",
    "from sklearn.decomposition import PCA\n",
    "import time\n",
    "from sklearn.preprocessing import StandardScaler"
   ]
  },
  {
   "cell_type": "markdown",
   "metadata": {},
   "source": [
    "---\n",
    "# Code Algorithm"
   ]
  },
  {
   "cell_type": "code",
   "execution_count": 2,
   "metadata": {},
   "outputs": [],
   "source": [
    "def kmeans_alg(train, clusters, actual_labels):\n",
    "    ## track runtime\n",
    "    start = time.time()\n",
    "    \n",
    "    ## run algorithm\n",
    "    output = KMeans(n_clusters = clusters, init = 'k-means++', max_iter = 10000, \n",
    "                    n_init = 10, random_state = 0).fit(train)\n",
    "    \n",
    "    ## predicted labels\n",
    "    predicted = output.labels_\n",
    "    \n",
    "    ## track runtime\n",
    "    end = time.time()\n",
    "    elapsed = end - start\n",
    "    \n",
    "    ## evaluate accuracy\n",
    "    correct = sum(predicted == actual_labels)\n",
    "    accuracy = correct / len(actual_labels)\n",
    "    \n",
    "    return(round(accuracy, 4), round(elapsed, 4))"
   ]
  },
  {
   "cell_type": "markdown",
   "metadata": {},
   "source": [
    "---\n",
    "# Iris Dataset"
   ]
  },
  {
   "cell_type": "code",
   "execution_count": 3,
   "metadata": {},
   "outputs": [
    {
     "data": {
      "text/html": [
       "<div>\n",
       "<style scoped>\n",
       "    .dataframe tbody tr th:only-of-type {\n",
       "        vertical-align: middle;\n",
       "    }\n",
       "\n",
       "    .dataframe tbody tr th {\n",
       "        vertical-align: top;\n",
       "    }\n",
       "\n",
       "    .dataframe thead th {\n",
       "        text-align: right;\n",
       "    }\n",
       "</style>\n",
       "<table border=\"1\" class=\"dataframe\">\n",
       "  <thead>\n",
       "    <tr style=\"text-align: right;\">\n",
       "      <th></th>\n",
       "      <th>Sepal.Length</th>\n",
       "      <th>Sepal.Width</th>\n",
       "      <th>Petal.Length</th>\n",
       "      <th>Petal.Width</th>\n",
       "      <th>Species</th>\n",
       "    </tr>\n",
       "  </thead>\n",
       "  <tbody>\n",
       "    <tr>\n",
       "      <th>0</th>\n",
       "      <td>5.1</td>\n",
       "      <td>3.5</td>\n",
       "      <td>1.4</td>\n",
       "      <td>0.2</td>\n",
       "      <td>setosa</td>\n",
       "    </tr>\n",
       "    <tr>\n",
       "      <th>1</th>\n",
       "      <td>4.9</td>\n",
       "      <td>3.0</td>\n",
       "      <td>1.4</td>\n",
       "      <td>0.2</td>\n",
       "      <td>setosa</td>\n",
       "    </tr>\n",
       "    <tr>\n",
       "      <th>2</th>\n",
       "      <td>4.7</td>\n",
       "      <td>3.2</td>\n",
       "      <td>1.3</td>\n",
       "      <td>0.2</td>\n",
       "      <td>setosa</td>\n",
       "    </tr>\n",
       "    <tr>\n",
       "      <th>3</th>\n",
       "      <td>4.6</td>\n",
       "      <td>3.1</td>\n",
       "      <td>1.5</td>\n",
       "      <td>0.2</td>\n",
       "      <td>setosa</td>\n",
       "    </tr>\n",
       "    <tr>\n",
       "      <th>4</th>\n",
       "      <td>5.0</td>\n",
       "      <td>3.6</td>\n",
       "      <td>1.4</td>\n",
       "      <td>0.2</td>\n",
       "      <td>setosa</td>\n",
       "    </tr>\n",
       "  </tbody>\n",
       "</table>\n",
       "</div>"
      ],
      "text/plain": [
       "   Sepal.Length  Sepal.Width  Petal.Length  Petal.Width Species\n",
       "0           5.1          3.5           1.4          0.2  setosa\n",
       "1           4.9          3.0           1.4          0.2  setosa\n",
       "2           4.7          3.2           1.3          0.2  setosa\n",
       "3           4.6          3.1           1.5          0.2  setosa\n",
       "4           5.0          3.6           1.4          0.2  setosa"
      ]
     },
     "execution_count": 3,
     "metadata": {},
     "output_type": "execute_result"
    }
   ],
   "source": [
    "## import data\n",
    "iris = pd.read_csv('iris.csv')\n",
    "iris.head()"
   ]
  },
  {
   "cell_type": "code",
   "execution_count": 4,
   "metadata": {},
   "outputs": [
    {
     "name": "stdout",
     "output_type": "stream",
     "text": [
      "(0.8933, 0.0125)\n"
     ]
    }
   ],
   "source": [
    "## extract explanatory variables\n",
    "iris_train = iris.iloc[:, [0,1,2,3]].values\n",
    "\n",
    "## extract actual species label\n",
    "iris_species = iris.iloc[:, 4]\n",
    "\n",
    "## re-label actual species to integers\n",
    "iris_distinct_species = iris.Species.unique()\n",
    "\n",
    "iris_dict = {iris_distinct_species[0]: 1,\n",
    "                 iris_distinct_species[1]: 2,\n",
    "                 iris_distinct_species[2]: 0}\n",
    "iris_labels = iris_species.replace(iris_dict)\n",
    "\n",
    "## run algorithm\n",
    "iris_metrics = kmeans_alg(iris_train, 3, iris_labels)\n",
    "\n",
    "## print results\n",
    "print(iris_metrics)"
   ]
  },
  {
   "cell_type": "markdown",
   "metadata": {},
   "source": [
    "---\n",
    "# Penguins Dataset"
   ]
  },
  {
   "cell_type": "code",
   "execution_count": 5,
   "metadata": {},
   "outputs": [
    {
     "data": {
      "text/html": [
       "<div>\n",
       "<style scoped>\n",
       "    .dataframe tbody tr th:only-of-type {\n",
       "        vertical-align: middle;\n",
       "    }\n",
       "\n",
       "    .dataframe tbody tr th {\n",
       "        vertical-align: top;\n",
       "    }\n",
       "\n",
       "    .dataframe thead th {\n",
       "        text-align: right;\n",
       "    }\n",
       "</style>\n",
       "<table border=\"1\" class=\"dataframe\">\n",
       "  <thead>\n",
       "    <tr style=\"text-align: right;\">\n",
       "      <th></th>\n",
       "      <th>species</th>\n",
       "      <th>island</th>\n",
       "      <th>bill_length_mm</th>\n",
       "      <th>bill_depth_mm</th>\n",
       "      <th>flipper_length_mm</th>\n",
       "      <th>body_mass_g</th>\n",
       "      <th>sex</th>\n",
       "      <th>year</th>\n",
       "    </tr>\n",
       "  </thead>\n",
       "  <tbody>\n",
       "    <tr>\n",
       "      <th>0</th>\n",
       "      <td>Adelie</td>\n",
       "      <td>Torgersen</td>\n",
       "      <td>39.1</td>\n",
       "      <td>18.7</td>\n",
       "      <td>181.0</td>\n",
       "      <td>3750.0</td>\n",
       "      <td>male</td>\n",
       "      <td>2007</td>\n",
       "    </tr>\n",
       "    <tr>\n",
       "      <th>1</th>\n",
       "      <td>Adelie</td>\n",
       "      <td>Torgersen</td>\n",
       "      <td>39.5</td>\n",
       "      <td>17.4</td>\n",
       "      <td>186.0</td>\n",
       "      <td>3800.0</td>\n",
       "      <td>female</td>\n",
       "      <td>2007</td>\n",
       "    </tr>\n",
       "    <tr>\n",
       "      <th>2</th>\n",
       "      <td>Adelie</td>\n",
       "      <td>Torgersen</td>\n",
       "      <td>40.3</td>\n",
       "      <td>18.0</td>\n",
       "      <td>195.0</td>\n",
       "      <td>3250.0</td>\n",
       "      <td>female</td>\n",
       "      <td>2007</td>\n",
       "    </tr>\n",
       "    <tr>\n",
       "      <th>4</th>\n",
       "      <td>Adelie</td>\n",
       "      <td>Torgersen</td>\n",
       "      <td>36.7</td>\n",
       "      <td>19.3</td>\n",
       "      <td>193.0</td>\n",
       "      <td>3450.0</td>\n",
       "      <td>female</td>\n",
       "      <td>2007</td>\n",
       "    </tr>\n",
       "    <tr>\n",
       "      <th>5</th>\n",
       "      <td>Adelie</td>\n",
       "      <td>Torgersen</td>\n",
       "      <td>39.3</td>\n",
       "      <td>20.6</td>\n",
       "      <td>190.0</td>\n",
       "      <td>3650.0</td>\n",
       "      <td>male</td>\n",
       "      <td>2007</td>\n",
       "    </tr>\n",
       "  </tbody>\n",
       "</table>\n",
       "</div>"
      ],
      "text/plain": [
       "  species     island  bill_length_mm  bill_depth_mm  flipper_length_mm  \\\n",
       "0  Adelie  Torgersen            39.1           18.7              181.0   \n",
       "1  Adelie  Torgersen            39.5           17.4              186.0   \n",
       "2  Adelie  Torgersen            40.3           18.0              195.0   \n",
       "4  Adelie  Torgersen            36.7           19.3              193.0   \n",
       "5  Adelie  Torgersen            39.3           20.6              190.0   \n",
       "\n",
       "   body_mass_g     sex  year  \n",
       "0       3750.0    male  2007  \n",
       "1       3800.0  female  2007  \n",
       "2       3250.0  female  2007  \n",
       "4       3450.0  female  2007  \n",
       "5       3650.0    male  2007  "
      ]
     },
     "execution_count": 5,
     "metadata": {},
     "output_type": "execute_result"
    }
   ],
   "source": [
    "## import data\n",
    "penguins = pd.read_csv('penguins.csv')\n",
    "penguins = penguins.dropna()\n",
    "penguins.head()"
   ]
  },
  {
   "cell_type": "code",
   "execution_count": 6,
   "metadata": {},
   "outputs": [
    {
     "name": "stdout",
     "output_type": "stream",
     "text": [
      "(0.5826, 0.0154)\n"
     ]
    }
   ],
   "source": [
    "## extract explanatory variables\n",
    "penguins_train = penguins.iloc[:, [2,3,4,5]].values\n",
    "\n",
    "## extract actual species label\n",
    "penguins_species = penguins.iloc[:, 0]\n",
    "\n",
    "## re-label actual species to integers\n",
    "penguins_distinct_species = penguins.species.unique()\n",
    "penguins_dict = {penguins_distinct_species[0]: 2,\n",
    "                 penguins_distinct_species[1]: 1,\n",
    "                 penguins_distinct_species[2]: 0}\n",
    "penguins_labels = penguins_species.replace(penguins_dict)\n",
    "\n",
    "## run algorithm\n",
    "penguins_metrics = kmeans_alg(penguins_train, 3, penguins_labels)\n",
    "\n",
    "## print results\n",
    "print(penguins_metrics)"
   ]
  },
  {
   "cell_type": "markdown",
   "metadata": {},
   "source": [
    "---\n",
    "# Seeds Dataset"
   ]
  },
  {
   "cell_type": "code",
   "execution_count": 7,
   "metadata": {},
   "outputs": [
    {
     "data": {
      "text/html": [
       "<div>\n",
       "<style scoped>\n",
       "    .dataframe tbody tr th:only-of-type {\n",
       "        vertical-align: middle;\n",
       "    }\n",
       "\n",
       "    .dataframe tbody tr th {\n",
       "        vertical-align: top;\n",
       "    }\n",
       "\n",
       "    .dataframe thead th {\n",
       "        text-align: right;\n",
       "    }\n",
       "</style>\n",
       "<table border=\"1\" class=\"dataframe\">\n",
       "  <thead>\n",
       "    <tr style=\"text-align: right;\">\n",
       "      <th></th>\n",
       "      <th>Area</th>\n",
       "      <th>Perim</th>\n",
       "      <th>Compact</th>\n",
       "      <th>K.Length</th>\n",
       "      <th>K.Width</th>\n",
       "      <th>Assym</th>\n",
       "      <th>G.Length</th>\n",
       "      <th>Class</th>\n",
       "    </tr>\n",
       "  </thead>\n",
       "  <tbody>\n",
       "    <tr>\n",
       "      <th>0</th>\n",
       "      <td>15.26</td>\n",
       "      <td>14.84</td>\n",
       "      <td>0.8710</td>\n",
       "      <td>5.763</td>\n",
       "      <td>3.312</td>\n",
       "      <td>2.221</td>\n",
       "      <td>5.220</td>\n",
       "      <td>1</td>\n",
       "    </tr>\n",
       "    <tr>\n",
       "      <th>1</th>\n",
       "      <td>14.88</td>\n",
       "      <td>14.57</td>\n",
       "      <td>0.8811</td>\n",
       "      <td>5.554</td>\n",
       "      <td>3.333</td>\n",
       "      <td>1.018</td>\n",
       "      <td>4.956</td>\n",
       "      <td>1</td>\n",
       "    </tr>\n",
       "    <tr>\n",
       "      <th>2</th>\n",
       "      <td>14.29</td>\n",
       "      <td>14.09</td>\n",
       "      <td>0.9050</td>\n",
       "      <td>5.291</td>\n",
       "      <td>3.337</td>\n",
       "      <td>2.699</td>\n",
       "      <td>4.825</td>\n",
       "      <td>1</td>\n",
       "    </tr>\n",
       "    <tr>\n",
       "      <th>3</th>\n",
       "      <td>13.84</td>\n",
       "      <td>13.94</td>\n",
       "      <td>0.8955</td>\n",
       "      <td>5.324</td>\n",
       "      <td>3.379</td>\n",
       "      <td>2.259</td>\n",
       "      <td>4.805</td>\n",
       "      <td>1</td>\n",
       "    </tr>\n",
       "    <tr>\n",
       "      <th>4</th>\n",
       "      <td>16.14</td>\n",
       "      <td>14.99</td>\n",
       "      <td>0.9034</td>\n",
       "      <td>5.658</td>\n",
       "      <td>3.562</td>\n",
       "      <td>1.355</td>\n",
       "      <td>5.175</td>\n",
       "      <td>1</td>\n",
       "    </tr>\n",
       "  </tbody>\n",
       "</table>\n",
       "</div>"
      ],
      "text/plain": [
       "    Area  Perim  Compact  K.Length  K.Width  Assym  G.Length  Class\n",
       "0  15.26  14.84   0.8710     5.763    3.312  2.221     5.220      1\n",
       "1  14.88  14.57   0.8811     5.554    3.333  1.018     4.956      1\n",
       "2  14.29  14.09   0.9050     5.291    3.337  2.699     4.825      1\n",
       "3  13.84  13.94   0.8955     5.324    3.379  2.259     4.805      1\n",
       "4  16.14  14.99   0.9034     5.658    3.562  1.355     5.175      1"
      ]
     },
     "execution_count": 7,
     "metadata": {},
     "output_type": "execute_result"
    }
   ],
   "source": [
    "## import data\n",
    "seeds = pd.read_csv('seeds_dataset.csv')\n",
    "seeds.head()"
   ]
  },
  {
   "cell_type": "code",
   "execution_count": 8,
   "metadata": {},
   "outputs": [
    {
     "name": "stdout",
     "output_type": "stream",
     "text": [
      "(0.8952, 0.0135)\n"
     ]
    }
   ],
   "source": [
    "## extract explanatory variables\n",
    "seeds_train = seeds.iloc[:, [0,1,2,3,4,5,6]].values\n",
    "\n",
    "## extract actual species label\n",
    "seeds_species = seeds.iloc[:, 7]\n",
    "\n",
    "## re-label actual species to integers\n",
    "seeds_distinct_species = seeds.Class.unique()\n",
    "seeds_dict = {seeds_distinct_species[0]: 2,\n",
    "              seeds_distinct_species[1]: 1,\n",
    "              seeds_distinct_species[2]: 0}\n",
    "seeds_labels = seeds_species.replace(seeds_dict)\n",
    "\n",
    "## run algorithm\n",
    "seeds_metrics = kmeans_alg(seeds_train, 3, seeds_labels)\n",
    "\n",
    "## print results\n",
    "print(seeds_metrics)"
   ]
  },
  {
   "cell_type": "markdown",
   "metadata": {},
   "source": [
    "---\n",
    "# Principal Component Analysis"
   ]
  },
  {
   "cell_type": "markdown",
   "metadata": {},
   "source": [
    "From the Principal Component Analysis *explained variance ratio* (shown below), we observe the following:\n",
    "\n",
    "- Around 73% of the variance in the *iris* dataset can be explained by the first principal component and around 23% of the variance in the dataset can be explained by the second, for a total of 96%\n",
    "\n",
    "- Around 69% of the variance in the *penguins* dataset can be explained by the first principal component and around 19% of the variance in the dataset can be explained by the second, for a total of 88%\n",
    "\n",
    "- Around 72% of the variance in the *seeds* dataset can be explained by the first principal component and around 17% of the variance in the dataset can be explained by the second, for a total of 89%\n",
    "\n",
    "Therefore, we will try using both only one and two principal components below."
   ]
  },
  {
   "cell_type": "code",
   "execution_count": 9,
   "metadata": {},
   "outputs": [],
   "source": [
    "pca = PCA()"
   ]
  },
  {
   "cell_type": "markdown",
   "metadata": {},
   "source": [
    "## Iris PCA"
   ]
  },
  {
   "cell_type": "code",
   "execution_count": 10,
   "metadata": {},
   "outputs": [
    {
     "data": {
      "text/plain": [
       "array([0.72962445, 0.22850762, 0.03668922, 0.00517871])"
      ]
     },
     "execution_count": 10,
     "metadata": {},
     "output_type": "execute_result"
    }
   ],
   "source": [
    "scaler = StandardScaler()\n",
    "iris_std = scaler.fit_transform(iris_train)\n",
    "\n",
    "iris_pca = pca.fit(iris_std)\n",
    "iris_pca.explained_variance_ratio_"
   ]
  },
  {
   "cell_type": "markdown",
   "metadata": {},
   "source": [
    "## Penguins PCA"
   ]
  },
  {
   "cell_type": "code",
   "execution_count": 11,
   "metadata": {},
   "outputs": [
    {
     "data": {
      "text/plain": [
       "array([0.68633893, 0.19452929, 0.09216063, 0.02697115])"
      ]
     },
     "execution_count": 11,
     "metadata": {},
     "output_type": "execute_result"
    }
   ],
   "source": [
    "scaler = StandardScaler()\n",
    "penguins_std = scaler.fit_transform(penguins_train)\n",
    "\n",
    "penguins_pca = pca.fit(penguins_std)\n",
    "penguins_pca.explained_variance_ratio_"
   ]
  },
  {
   "cell_type": "markdown",
   "metadata": {},
   "source": [
    "## Seeds PCA"
   ]
  },
  {
   "cell_type": "code",
   "execution_count": 12,
   "metadata": {},
   "outputs": [
    {
     "data": {
      "text/plain": [
       "array([7.18743027e-01, 1.71081835e-01, 9.68576341e-02, 9.76635386e-03,\n",
       "       2.67337271e-03, 7.61720812e-04, 1.16056686e-04])"
      ]
     },
     "execution_count": 12,
     "metadata": {},
     "output_type": "execute_result"
    }
   ],
   "source": [
    "scaler = StandardScaler()\n",
    "seeds_std = scaler.fit_transform(seeds_train)\n",
    "\n",
    "seeds_pca = pca.fit(seeds_std)\n",
    "seeds_pca.explained_variance_ratio_"
   ]
  },
  {
   "cell_type": "markdown",
   "metadata": {},
   "source": [
    "---\n",
    "# K-Means Using PCA Components"
   ]
  },
  {
   "cell_type": "markdown",
   "metadata": {},
   "source": [
    "## Iris Dataset"
   ]
  },
  {
   "cell_type": "markdown",
   "metadata": {},
   "source": [
    "### One Principal Component"
   ]
  },
  {
   "cell_type": "code",
   "execution_count": 13,
   "metadata": {},
   "outputs": [
    {
     "name": "stdout",
     "output_type": "stream",
     "text": [
      "(0.9267, 0.0146)\n"
     ]
    }
   ],
   "source": [
    "## fit PCA\n",
    "iris_pca1 = PCA(n_components = 1)\n",
    "iris_pca1.fit(iris_std)\n",
    "iris_scores1 = iris_pca1.transform(iris_std)\n",
    "\n",
    "## re-label actual species to integers\n",
    "iris_dict_pca1 = {iris_distinct_species[0]: 1,\n",
    "                 iris_distinct_species[1]: 2,\n",
    "                 iris_distinct_species[2]: 0}\n",
    "iris_labels_pca1 = iris_species.replace(iris_dict_pca1)\n",
    "\n",
    "## run algorithm\n",
    "iris_metrics_pca1 = kmeans_alg(iris_scores1, 3, iris_labels_pca1)\n",
    "\n",
    "## print results\n",
    "print(iris_metrics_pca1)"
   ]
  },
  {
   "cell_type": "markdown",
   "metadata": {},
   "source": [
    "### Two Principal Components"
   ]
  },
  {
   "cell_type": "code",
   "execution_count": 14,
   "metadata": {},
   "outputs": [
    {
     "name": "stdout",
     "output_type": "stream",
     "text": [
      "(0.8333, 0.015)\n"
     ]
    }
   ],
   "source": [
    "## fit PCA\n",
    "iris_pca2 = PCA(n_components = 2)\n",
    "iris_pca2.fit(iris_std)\n",
    "iris_scores2 = iris_pca2.transform(iris_std)\n",
    "\n",
    "## re-label actual species to integers\n",
    "iris_dict_pca2 = {iris_distinct_species[0]: 1,\n",
    "                 iris_distinct_species[1]: 2,\n",
    "                 iris_distinct_species[2]: 0}\n",
    "iris_labels_pca2 = iris_species.replace(iris_dict_pca2)\n",
    "\n",
    "## run algorithm\n",
    "iris_metrics_pca2 = kmeans_alg(iris_scores2, 3, iris_labels_pca2)\n",
    "\n",
    "## print results\n",
    "print(iris_metrics_pca2)"
   ]
  },
  {
   "cell_type": "markdown",
   "metadata": {},
   "source": [
    "## Penguins Dataset"
   ]
  },
  {
   "cell_type": "markdown",
   "metadata": {},
   "source": [
    "### One Principal Component"
   ]
  },
  {
   "cell_type": "code",
   "execution_count": 15,
   "metadata": {},
   "outputs": [
    {
     "name": "stdout",
     "output_type": "stream",
     "text": [
      "(0.8589, 0.0199)\n"
     ]
    }
   ],
   "source": [
    "## fit PCA\n",
    "penguins_pca1 = PCA(n_components = 1)\n",
    "penguins_pca1.fit(penguins_std)\n",
    "penguins_scores1 = penguins_pca1.transform(penguins_std)\n",
    "\n",
    "## re-label actual species to integers\n",
    "penguins_dict_pca1 = {penguins_distinct_species[0]: 2,\n",
    "                     penguins_distinct_species[1]: 1,\n",
    "                     penguins_distinct_species[2]: 0}\n",
    "penguins_labels_pca1 = penguins_species.replace(penguins_dict_pca1)\n",
    "\n",
    "## run algorithm\n",
    "penguins_metrics_pca1 = kmeans_alg(penguins_scores1, 3, penguins_labels_pca1)\n",
    "\n",
    "## print results\n",
    "print(penguins_metrics_pca1)"
   ]
  },
  {
   "cell_type": "markdown",
   "metadata": {},
   "source": [
    "### Two Principal Components"
   ]
  },
  {
   "cell_type": "code",
   "execution_count": 16,
   "metadata": {},
   "outputs": [
    {
     "name": "stdout",
     "output_type": "stream",
     "text": [
      "(0.8799, 0.0189)\n"
     ]
    }
   ],
   "source": [
    "## fit PCA\n",
    "penguins_pca2 = PCA(n_components = 2)\n",
    "penguins_pca2.fit(penguins_std)\n",
    "penguins_scores2 = penguins_pca2.transform(penguins_std)\n",
    "\n",
    "## re-label actual species to integers\n",
    "penguins_dict_pca2 = {penguins_distinct_species[0]: 2,\n",
    "                     penguins_distinct_species[1]: 0,\n",
    "                     penguins_distinct_species[2]: 1}\n",
    "penguins_labels_pca2 = penguins_species.replace(penguins_dict_pca2)\n",
    "\n",
    "## run algorithm\n",
    "penguins_metrics_pca2 = kmeans_alg(penguins_scores2, 3, penguins_labels_pca2)\n",
    "\n",
    "## print results\n",
    "print(penguins_metrics_pca2)"
   ]
  },
  {
   "cell_type": "markdown",
   "metadata": {},
   "source": [
    "## Seeds Dataset"
   ]
  },
  {
   "cell_type": "markdown",
   "metadata": {},
   "source": [
    "### One Principal Component"
   ]
  },
  {
   "cell_type": "code",
   "execution_count": 17,
   "metadata": {},
   "outputs": [
    {
     "name": "stdout",
     "output_type": "stream",
     "text": [
      "(0.8571, 0.0125)\n"
     ]
    }
   ],
   "source": [
    "## fit PCA\n",
    "seeds_pca1 = PCA(n_components = 1)\n",
    "seeds_pca1.fit(seeds_std)\n",
    "seeds_scores1 = seeds_pca1.transform(seeds_std)\n",
    "\n",
    "## re-label actual species to integers\n",
    "seeds_dict_pca1 = {seeds_distinct_species[0]: 2,\n",
    "                  seeds_distinct_species[1]: 1,\n",
    "                  seeds_distinct_species[2]: 0}\n",
    "seeds_labels_pca1 = seeds_species.replace(seeds_dict_pca1)\n",
    "\n",
    "## run algorithm\n",
    "seeds_metrics_pca1 = kmeans_alg(seeds_scores1, 3, seeds_labels_pca1)\n",
    "\n",
    "## print results\n",
    "print(seeds_metrics_pca1)"
   ]
  },
  {
   "cell_type": "markdown",
   "metadata": {},
   "source": [
    "### Two Principal Components"
   ]
  },
  {
   "cell_type": "code",
   "execution_count": 18,
   "metadata": {},
   "outputs": [
    {
     "name": "stdout",
     "output_type": "stream",
     "text": [
      "(0.9095, 0.0135)\n"
     ]
    }
   ],
   "source": [
    "## fit PCA\n",
    "seeds_pca2 = PCA(n_components = 2)\n",
    "seeds_pca2.fit(seeds_std)\n",
    "seeds_scores2 = seeds_pca2.transform(seeds_std)\n",
    "\n",
    "## re-label actual species to integers\n",
    "seeds_dict_pca2 = {seeds_distinct_species[0]: 0,\n",
    "                  seeds_distinct_species[1]: 2,\n",
    "                  seeds_distinct_species[2]: 1}\n",
    "seeds_labels_pca2 = seeds_species.replace(seeds_dict_pca2)\n",
    "\n",
    "## run algorithm\n",
    "seeds_metrics_pca2 = kmeans_alg(seeds_scores2, 3, seeds_labels_pca2)\n",
    "\n",
    "## print results\n",
    "print(seeds_metrics_pca2)"
   ]
  },
  {
   "cell_type": "markdown",
   "metadata": {},
   "source": [
    "---\n",
    "# Compare Full Model vs. PCA Model"
   ]
  },
  {
   "cell_type": "markdown",
   "metadata": {},
   "source": [
    "## Iris Dataset"
   ]
  },
  {
   "cell_type": "code",
   "execution_count": 19,
   "metadata": {},
   "outputs": [
    {
     "name": "stdout",
     "output_type": "stream",
     "text": [
      "   Accuracy  Runtime\n",
      "0    0.8933   0.0125\n",
      "1    0.9267   0.0146\n",
      "2    0.8333   0.0150\n"
     ]
    }
   ],
   "source": [
    "## 0 = Full Model (4 Predictors)\n",
    "## 1 = PCA Model w/ One Component\n",
    "## 2 = PCA Model w/ Two Components\n",
    "iris_compare = [iris_metrics, \n",
    "                iris_metrics_pca1,\n",
    "                iris_metrics_pca2]\n",
    "iris_compare = pd.DataFrame(iris_compare, columns=['Accuracy', 'Runtime'])\n",
    "print(iris_compare)"
   ]
  },
  {
   "cell_type": "markdown",
   "metadata": {},
   "source": [
    "## Penguins Dataset"
   ]
  },
  {
   "cell_type": "code",
   "execution_count": 20,
   "metadata": {},
   "outputs": [
    {
     "name": "stdout",
     "output_type": "stream",
     "text": [
      "   Accuracy  Runtime\n",
      "0    0.5826   0.0154\n",
      "1    0.8589   0.0199\n",
      "2    0.8799   0.0189\n"
     ]
    }
   ],
   "source": [
    "## 0 = Full Model (4 Predictors)\n",
    "## 1 = PCA Model w/ One Component\n",
    "## 2 = PCA Model w/ Two Components\n",
    "penguins_compare = [penguins_metrics, \n",
    "                    penguins_metrics_pca1,\n",
    "                    penguins_metrics_pca2]\n",
    "penguins_compare = pd.DataFrame(penguins_compare, columns=['Accuracy', 'Runtime'])\n",
    "print(penguins_compare)"
   ]
  },
  {
   "cell_type": "markdown",
   "metadata": {},
   "source": [
    "## Seeds Dataset"
   ]
  },
  {
   "cell_type": "code",
   "execution_count": 21,
   "metadata": {},
   "outputs": [
    {
     "name": "stdout",
     "output_type": "stream",
     "text": [
      "   Accuracy  Runtime\n",
      "0    0.8952   0.0135\n",
      "1    0.8571   0.0125\n",
      "2    0.9095   0.0135\n"
     ]
    }
   ],
   "source": [
    "## 0 = Full Model (7 Predictors)\n",
    "## 1 = PCA Model w/ One Component\n",
    "## 2 = PCA Model w/ Two Components\n",
    "seeds_compare = [seeds_metrics, \n",
    "                 seeds_metrics_pca1,\n",
    "                 seeds_metrics_pca2]\n",
    "seeds_compare = pd.DataFrame(seeds_compare, columns=['Accuracy', 'Runtime'])\n",
    "print(seeds_compare)"
   ]
  }
 ],
 "metadata": {
  "kernelspec": {
   "display_name": "Python 3",
   "language": "python",
   "name": "python3"
  },
  "language_info": {
   "codemirror_mode": {
    "name": "ipython",
    "version": 3
   },
   "file_extension": ".py",
   "mimetype": "text/x-python",
   "name": "python",
   "nbconvert_exporter": "python",
   "pygments_lexer": "ipython3",
   "version": "3.8.5"
  }
 },
 "nbformat": 4,
 "nbformat_minor": 4
}
