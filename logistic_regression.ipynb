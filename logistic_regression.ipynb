{
 "cells": [
  {
   "cell_type": "markdown",
   "id": "eec6e3c3-3b36-412d-b0e1-54a75b0b6902",
   "metadata": {},
   "source": [
    "## $\\S$1. Load data\n",
    "\n",
    "We will be using three datasets to compare how logistic regression performs on different types of datasets.\n",
    "\n",
    "First, we start with the `iris` dataset, which has four features and we will use the logistic regression model to predict the species of the iris."
   ]
  },
  {
   "cell_type": "code",
   "execution_count": 13,
   "id": "06115c29-58bd-4a5f-b1b3-d2f8ad5fe25a",
   "metadata": {},
   "outputs": [
    {
     "data": {
      "text/html": [
       "<div>\n",
       "<style scoped>\n",
       "    .dataframe tbody tr th:only-of-type {\n",
       "        vertical-align: middle;\n",
       "    }\n",
       "\n",
       "    .dataframe tbody tr th {\n",
       "        vertical-align: top;\n",
       "    }\n",
       "\n",
       "    .dataframe thead th {\n",
       "        text-align: right;\n",
       "    }\n",
       "</style>\n",
       "<table border=\"1\" class=\"dataframe\">\n",
       "  <thead>\n",
       "    <tr style=\"text-align: right;\">\n",
       "      <th></th>\n",
       "      <th>Sepal.Length</th>\n",
       "      <th>Sepal.Width</th>\n",
       "      <th>Petal.Length</th>\n",
       "      <th>Petal.Width</th>\n",
       "      <th>Species</th>\n",
       "    </tr>\n",
       "  </thead>\n",
       "  <tbody>\n",
       "    <tr>\n",
       "      <th>0</th>\n",
       "      <td>5.1</td>\n",
       "      <td>3.5</td>\n",
       "      <td>1.4</td>\n",
       "      <td>0.2</td>\n",
       "      <td>setosa</td>\n",
       "    </tr>\n",
       "    <tr>\n",
       "      <th>1</th>\n",
       "      <td>4.9</td>\n",
       "      <td>3.0</td>\n",
       "      <td>1.4</td>\n",
       "      <td>0.2</td>\n",
       "      <td>setosa</td>\n",
       "    </tr>\n",
       "    <tr>\n",
       "      <th>2</th>\n",
       "      <td>4.7</td>\n",
       "      <td>3.2</td>\n",
       "      <td>1.3</td>\n",
       "      <td>0.2</td>\n",
       "      <td>setosa</td>\n",
       "    </tr>\n",
       "    <tr>\n",
       "      <th>3</th>\n",
       "      <td>4.6</td>\n",
       "      <td>3.1</td>\n",
       "      <td>1.5</td>\n",
       "      <td>0.2</td>\n",
       "      <td>setosa</td>\n",
       "    </tr>\n",
       "    <tr>\n",
       "      <th>4</th>\n",
       "      <td>5.0</td>\n",
       "      <td>3.6</td>\n",
       "      <td>1.4</td>\n",
       "      <td>0.2</td>\n",
       "      <td>setosa</td>\n",
       "    </tr>\n",
       "  </tbody>\n",
       "</table>\n",
       "</div>"
      ],
      "text/plain": [
       "   Sepal.Length  Sepal.Width  Petal.Length  Petal.Width Species\n",
       "0           5.1          3.5           1.4          0.2  setosa\n",
       "1           4.9          3.0           1.4          0.2  setosa\n",
       "2           4.7          3.2           1.3          0.2  setosa\n",
       "3           4.6          3.1           1.5          0.2  setosa\n",
       "4           5.0          3.6           1.4          0.2  setosa"
      ]
     },
     "execution_count": 13,
     "metadata": {},
     "output_type": "execute_result"
    }
   ],
   "source": [
    "import pandas as pd\n",
    "# read in the iris data set\n",
    "iris = pd.read_csv(\"iris.csv\")\n",
    "iris.head()"
   ]
  },
  {
   "cell_type": "markdown",
   "id": "5f31de82-22a6-428e-a836-05b2f2ccce61",
   "metadata": {},
   "source": [
    "## $\\S$2. Split and clean data\n",
    "\n",
    "In order to train and test the model, we split the data so that we train on 80% of the data and test on the remaining 20%. We define the `prep_data()` function to clean the data."
   ]
  },
  {
   "cell_type": "code",
   "execution_count": 14,
   "id": "d7fc1a75-6674-42a2-ba33-3847eb545f9e",
   "metadata": {},
   "outputs": [],
   "source": [
    "from sklearn.model_selection import train_test_split\n",
    "\n",
    "train, test = train_test_split(iris, test_size = 0.2)"
   ]
  },
  {
   "cell_type": "code",
   "execution_count": 15,
   "id": "e4cca93a-014b-4614-bc28-4a6ed1a09a35",
   "metadata": {},
   "outputs": [],
   "source": [
    "from sklearn import preprocessing\n",
    "\n",
    "def prep_data(data_df):\n",
    "    \"\"\"\n",
    "    Takes in a dataframe, cleans the data entries, separates the predictor and target data \n",
    "    Returns a tuple of the predictor data variable and the target data variable\n",
    "    \"\"\"\n",
    "    df = data_df.copy()\n",
    "    df = df.dropna()\n",
    "    \n",
    "    # convert the values in the qualitative columns to integer values\n",
    "    le = preprocessing.LabelEncoder()\n",
    "    df['Species'] = le.fit_transform(df['Species'])\n",
    "    \n",
    "    # create the predictor data variable\n",
    "    X = df.drop(['Species'], axis = 1)\n",
    "    # create the target data variable\n",
    "    y = df['Species']\n",
    "        \n",
    "    return (X, y)\n",
    "\n",
    "# prepare the train data and the test data\n",
    "X_train, y_train = prep_data(train)\n",
    "X_test,  y_test  = prep_data(test)"
   ]
  },
  {
   "cell_type": "markdown",
   "id": "5ea8be45-58f7-4ac5-bac1-7c70f7055ef8",
   "metadata": {},
   "source": [
    "## $\\S$3. Logistic Regression\n",
    "\n",
    "We use the `LogisticRegression` model from the `sklearn` package in Python. We fit the model using the training data then calculate the model's accuracy on the test data."
   ]
  },
  {
   "cell_type": "code",
   "execution_count": 16,
   "id": "7dc137d9-b2bc-4c58-a809-e69d2731c502",
   "metadata": {},
   "outputs": [
    {
     "data": {
      "text/plain": [
       "1.0"
      ]
     },
     "execution_count": 16,
     "metadata": {},
     "output_type": "execute_result"
    }
   ],
   "source": [
    "from sklearn.linear_model import LogisticRegression\n",
    "\n",
    "LR = LogisticRegression(max_iter = 500)\n",
    "LR.fit(X_train, y_train)\n",
    "iris_score = LR.score(X_test, y_test)\n",
    "iris_score"
   ]
  },
  {
   "cell_type": "markdown",
   "id": "209d8cb1-99cf-4b66-853a-a35ff4c81128",
   "metadata": {},
   "source": [
    "## $\\S$4. Test the parameters\n",
    "\n",
    "We run the model using the features that we used PCA to extract from the data."
   ]
  },
  {
   "cell_type": "code",
   "execution_count": 17,
   "id": "70a95804-aeed-4f5f-bbd4-4d1cc396874d",
   "metadata": {},
   "outputs": [
    {
     "data": {
      "text/plain": [
       "0.9666666666666667"
      ]
     },
     "execution_count": 17,
     "metadata": {},
     "output_type": "execute_result"
    }
   ],
   "source": [
    "cols = ['Sepal.Length', 'Sepal.Width', 'Petal.Length']\n",
    "LR.fit(X_train[cols], y_train)\n",
    "LR.score(X_test[cols], y_test)"
   ]
  },
  {
   "cell_type": "markdown",
   "id": "63183f7d-3bd8-47c7-a8bb-16a3207f98fe",
   "metadata": {},
   "source": [
    "## $\\S$5. Compare the model with other datasets\n",
    "\n",
    "Next, we will perform the same process on the `penguins` dataset. This data has more features than the `iris` dataset, so we update the `prep_data()` function to convert the qualititative features."
   ]
  },
  {
   "cell_type": "code",
   "execution_count": 18,
   "id": "7e4b5a77-b228-40ef-a6de-718074a01a41",
   "metadata": {},
   "outputs": [
    {
     "data": {
      "text/html": [
       "<div>\n",
       "<style scoped>\n",
       "    .dataframe tbody tr th:only-of-type {\n",
       "        vertical-align: middle;\n",
       "    }\n",
       "\n",
       "    .dataframe tbody tr th {\n",
       "        vertical-align: top;\n",
       "    }\n",
       "\n",
       "    .dataframe thead th {\n",
       "        text-align: right;\n",
       "    }\n",
       "</style>\n",
       "<table border=\"1\" class=\"dataframe\">\n",
       "  <thead>\n",
       "    <tr style=\"text-align: right;\">\n",
       "      <th></th>\n",
       "      <th>species</th>\n",
       "      <th>island</th>\n",
       "      <th>bill_length_mm</th>\n",
       "      <th>bill_depth_mm</th>\n",
       "      <th>flipper_length_mm</th>\n",
       "      <th>body_mass_g</th>\n",
       "      <th>sex</th>\n",
       "      <th>year</th>\n",
       "    </tr>\n",
       "  </thead>\n",
       "  <tbody>\n",
       "    <tr>\n",
       "      <th>0</th>\n",
       "      <td>Adelie</td>\n",
       "      <td>Torgersen</td>\n",
       "      <td>39.1</td>\n",
       "      <td>18.7</td>\n",
       "      <td>181.0</td>\n",
       "      <td>3750.0</td>\n",
       "      <td>male</td>\n",
       "      <td>2007</td>\n",
       "    </tr>\n",
       "    <tr>\n",
       "      <th>1</th>\n",
       "      <td>Adelie</td>\n",
       "      <td>Torgersen</td>\n",
       "      <td>39.5</td>\n",
       "      <td>17.4</td>\n",
       "      <td>186.0</td>\n",
       "      <td>3800.0</td>\n",
       "      <td>female</td>\n",
       "      <td>2007</td>\n",
       "    </tr>\n",
       "    <tr>\n",
       "      <th>2</th>\n",
       "      <td>Adelie</td>\n",
       "      <td>Torgersen</td>\n",
       "      <td>40.3</td>\n",
       "      <td>18.0</td>\n",
       "      <td>195.0</td>\n",
       "      <td>3250.0</td>\n",
       "      <td>female</td>\n",
       "      <td>2007</td>\n",
       "    </tr>\n",
       "    <tr>\n",
       "      <th>3</th>\n",
       "      <td>Adelie</td>\n",
       "      <td>Torgersen</td>\n",
       "      <td>NaN</td>\n",
       "      <td>NaN</td>\n",
       "      <td>NaN</td>\n",
       "      <td>NaN</td>\n",
       "      <td>NaN</td>\n",
       "      <td>2007</td>\n",
       "    </tr>\n",
       "    <tr>\n",
       "      <th>4</th>\n",
       "      <td>Adelie</td>\n",
       "      <td>Torgersen</td>\n",
       "      <td>36.7</td>\n",
       "      <td>19.3</td>\n",
       "      <td>193.0</td>\n",
       "      <td>3450.0</td>\n",
       "      <td>female</td>\n",
       "      <td>2007</td>\n",
       "    </tr>\n",
       "  </tbody>\n",
       "</table>\n",
       "</div>"
      ],
      "text/plain": [
       "  species     island  bill_length_mm  bill_depth_mm  flipper_length_mm  \\\n",
       "0  Adelie  Torgersen            39.1           18.7              181.0   \n",
       "1  Adelie  Torgersen            39.5           17.4              186.0   \n",
       "2  Adelie  Torgersen            40.3           18.0              195.0   \n",
       "3  Adelie  Torgersen             NaN            NaN                NaN   \n",
       "4  Adelie  Torgersen            36.7           19.3              193.0   \n",
       "\n",
       "   body_mass_g     sex  year  \n",
       "0       3750.0    male  2007  \n",
       "1       3800.0  female  2007  \n",
       "2       3250.0  female  2007  \n",
       "3          NaN     NaN  2007  \n",
       "4       3450.0  female  2007  "
      ]
     },
     "execution_count": 18,
     "metadata": {},
     "output_type": "execute_result"
    }
   ],
   "source": [
    "# read in the penguins data set\n",
    "penguins = pd.read_csv(\"penguins.csv\")\n",
    "penguins.head()"
   ]
  },
  {
   "cell_type": "code",
   "execution_count": 19,
   "id": "81f68024-641a-46f7-8f77-a7a1507f7413",
   "metadata": {},
   "outputs": [],
   "source": [
    "from sklearn import preprocessing\n",
    "\n",
    "def prep_data(data_df):\n",
    "    \"\"\"\n",
    "    Takes in a dataframe, encodes the qualitative columns, separates the predictor and target data \n",
    "    Returns a tuple of the predictor data variable and the target data variable\n",
    "    \"\"\"\n",
    "    df = data_df.copy()\n",
    "    df = df.dropna()\n",
    "    \n",
    "    # convert the values in the qualitative columns to integer values\n",
    "    le = preprocessing.LabelEncoder()\n",
    "    df['sex'] = le.fit_transform(df['sex'])\n",
    "    df['island'] = le.fit_transform(df['island'])\n",
    "    \n",
    "    # create the predictor data variable\n",
    "    X = df.drop(['species'], axis = 1)\n",
    "    # create the target data variable\n",
    "    y = df['species']\n",
    "        \n",
    "    return(X, y)\n",
    "\n",
    "# prepare the train data and the test data\n",
    "train, test = train_test_split(penguins, test_size = 0.2)\n",
    "X_train, y_train = prep_data(train)\n",
    "X_test,  y_test  = prep_data(test)"
   ]
  },
  {
   "cell_type": "code",
   "execution_count": 20,
   "id": "9de60b39-b563-4ead-a4b9-b27f835d7199",
   "metadata": {},
   "outputs": [
    {
     "name": "stderr",
     "output_type": "stream",
     "text": [
      "/Users/kellychen/opt/anaconda3/envs/PIC16B/lib/python3.7/site-packages/sklearn/linear_model/_logistic.py:818: ConvergenceWarning: lbfgs failed to converge (status=1):\n",
      "STOP: TOTAL NO. of ITERATIONS REACHED LIMIT.\n",
      "\n",
      "Increase the number of iterations (max_iter) or scale the data as shown in:\n",
      "    https://scikit-learn.org/stable/modules/preprocessing.html\n",
      "Please also refer to the documentation for alternative solver options:\n",
      "    https://scikit-learn.org/stable/modules/linear_model.html#logistic-regression\n",
      "  extra_warning_msg=_LOGISTIC_SOLVER_CONVERGENCE_MSG,\n"
     ]
    },
    {
     "data": {
      "text/plain": [
       "1.0"
      ]
     },
     "execution_count": 20,
     "metadata": {},
     "output_type": "execute_result"
    }
   ],
   "source": [
    "LR = LogisticRegression(max_iter = 500)\n",
    "LR.fit(X_train, y_train)\n",
    "penguins_score = LR.score(X_test, y_test)\n",
    "penguins_score"
   ]
  },
  {
   "cell_type": "code",
   "execution_count": 21,
   "id": "5563a5ac-1de3-4522-9a95-6abd64f2230f",
   "metadata": {},
   "outputs": [
    {
     "data": {
      "text/plain": [
       "0.9701492537313433"
      ]
     },
     "execution_count": 21,
     "metadata": {},
     "output_type": "execute_result"
    }
   ],
   "source": [
    "cols = ['bill_length_mm', 'bill_depth_mm', 'flipper_length_mm']\n",
    "LR.fit(X_train[cols], y_train)\n",
    "LR.score(X_test[cols], y_test)"
   ]
  },
  {
   "cell_type": "code",
   "execution_count": null,
   "id": "03e0ed6d-ddd5-49f3-8fd6-7b7acc53c7e0",
   "metadata": {},
   "outputs": [],
   "source": [
    "Last, we will test the logistic regression model on the `seeds_data`"
   ]
  },
  {
   "cell_type": "code",
   "execution_count": 24,
   "id": "8c6d40aa-018b-4592-9435-4302776518cc",
   "metadata": {},
   "outputs": [
    {
     "data": {
      "text/html": [
       "<div>\n",
       "<style scoped>\n",
       "    .dataframe tbody tr th:only-of-type {\n",
       "        vertical-align: middle;\n",
       "    }\n",
       "\n",
       "    .dataframe tbody tr th {\n",
       "        vertical-align: top;\n",
       "    }\n",
       "\n",
       "    .dataframe thead th {\n",
       "        text-align: right;\n",
       "    }\n",
       "</style>\n",
       "<table border=\"1\" class=\"dataframe\">\n",
       "  <thead>\n",
       "    <tr style=\"text-align: right;\">\n",
       "      <th></th>\n",
       "      <th>Area</th>\n",
       "      <th>Perim</th>\n",
       "      <th>Compact</th>\n",
       "      <th>K.Length</th>\n",
       "      <th>K.Width</th>\n",
       "      <th>Assym</th>\n",
       "      <th>G.Length</th>\n",
       "      <th>Class</th>\n",
       "    </tr>\n",
       "  </thead>\n",
       "  <tbody>\n",
       "    <tr>\n",
       "      <th>0</th>\n",
       "      <td>15.26</td>\n",
       "      <td>14.84</td>\n",
       "      <td>0.8710</td>\n",
       "      <td>5.763</td>\n",
       "      <td>3.312</td>\n",
       "      <td>2.221</td>\n",
       "      <td>5.220</td>\n",
       "      <td>1</td>\n",
       "    </tr>\n",
       "    <tr>\n",
       "      <th>1</th>\n",
       "      <td>14.88</td>\n",
       "      <td>14.57</td>\n",
       "      <td>0.8811</td>\n",
       "      <td>5.554</td>\n",
       "      <td>3.333</td>\n",
       "      <td>1.018</td>\n",
       "      <td>4.956</td>\n",
       "      <td>1</td>\n",
       "    </tr>\n",
       "    <tr>\n",
       "      <th>2</th>\n",
       "      <td>14.29</td>\n",
       "      <td>14.09</td>\n",
       "      <td>0.9050</td>\n",
       "      <td>5.291</td>\n",
       "      <td>3.337</td>\n",
       "      <td>2.699</td>\n",
       "      <td>4.825</td>\n",
       "      <td>1</td>\n",
       "    </tr>\n",
       "    <tr>\n",
       "      <th>3</th>\n",
       "      <td>13.84</td>\n",
       "      <td>13.94</td>\n",
       "      <td>0.8955</td>\n",
       "      <td>5.324</td>\n",
       "      <td>3.379</td>\n",
       "      <td>2.259</td>\n",
       "      <td>4.805</td>\n",
       "      <td>1</td>\n",
       "    </tr>\n",
       "    <tr>\n",
       "      <th>4</th>\n",
       "      <td>16.14</td>\n",
       "      <td>14.99</td>\n",
       "      <td>0.9034</td>\n",
       "      <td>5.658</td>\n",
       "      <td>3.562</td>\n",
       "      <td>1.355</td>\n",
       "      <td>5.175</td>\n",
       "      <td>1</td>\n",
       "    </tr>\n",
       "  </tbody>\n",
       "</table>\n",
       "</div>"
      ],
      "text/plain": [
       "    Area  Perim  Compact  K.Length  K.Width  Assym  G.Length  Class\n",
       "0  15.26  14.84   0.8710     5.763    3.312  2.221     5.220      1\n",
       "1  14.88  14.57   0.8811     5.554    3.333  1.018     4.956      1\n",
       "2  14.29  14.09   0.9050     5.291    3.337  2.699     4.825      1\n",
       "3  13.84  13.94   0.8955     5.324    3.379  2.259     4.805      1\n",
       "4  16.14  14.99   0.9034     5.658    3.562  1.355     5.175      1"
      ]
     },
     "execution_count": 24,
     "metadata": {},
     "output_type": "execute_result"
    }
   ],
   "source": [
    "# read in the seeds data set\n",
    "seeds = pd.read_csv(\"seeds_dataset.csv\")\n",
    "seeds.head()"
   ]
  },
  {
   "cell_type": "code",
   "execution_count": 25,
   "id": "aa838d08-60f4-4686-94d5-6b31219f84e9",
   "metadata": {},
   "outputs": [],
   "source": [
    "def prep_data(data_df):\n",
    "    df = data_df.copy()\n",
    "    df = df.dropna()\n",
    "    \n",
    "    # create the predictor data variable\n",
    "    X = df.drop(['Class'], axis = 1)\n",
    "    # create the target data variable\n",
    "    y = df['Class']\n",
    "        \n",
    "    return(X, y)\n",
    "\n",
    "# prepare the train data and the test data\n",
    "train, test = train_test_split(seeds, test_size = 0.2)\n",
    "X_train, y_train = prep_data(train)\n",
    "X_test,  y_test  = prep_data(test)"
   ]
  },
  {
   "cell_type": "code",
   "execution_count": 26,
   "id": "b01171df-4363-47f8-a2d0-1ebede627362",
   "metadata": {},
   "outputs": [
    {
     "data": {
      "text/plain": [
       "0.9761904761904762"
      ]
     },
     "execution_count": 26,
     "metadata": {},
     "output_type": "execute_result"
    }
   ],
   "source": [
    "LR = LogisticRegression(max_iter = 500)\n",
    "LR.fit(X_train, y_train)\n",
    "seeds_score = LR.score(X_test, y_test)\n",
    "seeds_score"
   ]
  },
  {
   "cell_type": "code",
   "execution_count": 27,
   "id": "14c95ec3-0013-4e0b-9c7a-061da60c5108",
   "metadata": {},
   "outputs": [
    {
     "data": {
      "text/plain": [
       "0.9285714285714286"
      ]
     },
     "execution_count": 27,
     "metadata": {},
     "output_type": "execute_result"
    }
   ],
   "source": [
    "cols = ['Area', 'Perim', 'Compact']\n",
    "LR.fit(X_train[cols], y_train)\n",
    "LR.score(X_test[cols], y_test)"
   ]
  },
  {
   "cell_type": "code",
   "execution_count": 28,
   "id": "eaf3d50d-46a5-4d2e-856d-c66ae0ccefc3",
   "metadata": {},
   "outputs": [
    {
     "data": {
      "text/plain": [
       "(0.9333333333333333, 0.9852941176470589, 0.9761904761904762)"
      ]
     },
     "execution_count": 28,
     "metadata": {},
     "output_type": "execute_result"
    }
   ],
   "source": [
    "iris_score, penguins_score, seeds_score"
   ]
  },
  {
   "cell_type": "code",
   "execution_count": null,
   "id": "7a1d42e0-d0a1-4fed-b7e9-ca7f9d3aa305",
   "metadata": {},
   "outputs": [],
   "source": []
  }
 ],
 "metadata": {
  "kernelspec": {
   "display_name": "Python 3",
   "language": "python",
   "name": "python3"
  },
  "language_info": {
   "codemirror_mode": {
    "name": "ipython",
    "version": 3
   },
   "file_extension": ".py",
   "mimetype": "text/x-python",
   "name": "python",
   "nbconvert_exporter": "python",
   "pygments_lexer": "ipython3",
   "version": "3.7.11"
  }
 },
 "nbformat": 4,
 "nbformat_minor": 5
}
